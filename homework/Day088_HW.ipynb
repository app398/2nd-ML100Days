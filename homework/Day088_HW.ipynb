{
 "cells": [
  {
   "cell_type": "markdown",
   "metadata": {},
   "source": [
    "## Work\n",
    "1. 請嘗試寫一個 callback 用來記錄各類別在訓練過程中，對驗證集的 True Positive 與 True Negative"
   ]
  },
  {
   "cell_type": "code",
   "execution_count": 1,
   "metadata": {},
   "outputs": [
    {
     "name": "stderr",
     "output_type": "stream",
     "text": [
      "Using TensorFlow backend.\n"
     ]
    }
   ],
   "source": [
    "import os\n",
    "import keras\n",
    "\n",
    "# Disable GPU\n",
    "os.environ[\"CUDA_VISIBLE_DEVICES\"] = \"\""
   ]
  },
  {
   "cell_type": "code",
   "execution_count": 2,
   "metadata": {},
   "outputs": [],
   "source": [
    "train, test = keras.datasets.cifar10.load_data()"
   ]
  },
  {
   "cell_type": "code",
   "execution_count": 3,
   "metadata": {},
   "outputs": [],
   "source": [
    "## 資料前處理\n",
    "def preproc_x(x, flatten=True):\n",
    "    x = x / 255.\n",
    "    if flatten:\n",
    "        x = x.reshape((len(x), -1))\n",
    "    return x\n",
    "\n",
    "def preproc_y(y, num_classes=10):\n",
    "    if y.shape[-1] == 1:\n",
    "        y = keras.utils.to_categorical(y, num_classes)\n",
    "    return y    "
   ]
  },
  {
   "cell_type": "code",
   "execution_count": 4,
   "metadata": {},
   "outputs": [],
   "source": [
    "x_train, y_train = train\n",
    "x_test, y_test = test\n",
    "\n",
    "# Preproc the inputs\n",
    "x_train = preproc_x(x_train)\n",
    "x_test = preproc_x(x_test)\n",
    "\n",
    "# Preprc the outputs\n",
    "y_train = preproc_y(y_train)\n",
    "y_test = preproc_y(y_test)"
   ]
  },
  {
   "cell_type": "code",
   "execution_count": 5,
   "metadata": {},
   "outputs": [],
   "source": [
    "from keras.layers import BatchNormalization\n",
    "\n",
    "\"\"\"\n",
    "建立神經網路，並加入 BN layer\n",
    "\"\"\"\n",
    "def build_mlp(input_shape, output_units=10, num_neurons=[512, 256, 128]):\n",
    "    input_layer = keras.layers.Input(input_shape)\n",
    "    \n",
    "    for i, n_units in enumerate(num_neurons):\n",
    "        if i == 0:\n",
    "            x = keras.layers.Dense(units=n_units, \n",
    "                                   activation=\"relu\", \n",
    "                                   name=\"hidden_layer\"+str(i+1))(input_layer)\n",
    "            x = BatchNormalization()(x)\n",
    "        else:\n",
    "            x = keras.layers.Dense(units=n_units, \n",
    "                                   activation=\"relu\", \n",
    "                                   name=\"hidden_layer\"+str(i+1))(x)\n",
    "            x = BatchNormalization()(x)\n",
    "    \n",
    "    out = keras.layers.Dense(units=output_units, activation=\"softmax\", name=\"output\")(x)\n",
    "    \n",
    "    model = keras.models.Model(inputs=[input_layer], outputs=[out])\n",
    "    return model"
   ]
  },
  {
   "cell_type": "code",
   "execution_count": 6,
   "metadata": {},
   "outputs": [],
   "source": [
    "## 超參數設定\n",
    "LEARNING_RATE = 1e-3\n",
    "EPOCHS = 25\n",
    "BATCH_SIZE = 1024\n",
    "MOMENTUM = 0.95"
   ]
  },
  {
   "cell_type": "code",
   "execution_count": 7,
   "metadata": {},
   "outputs": [],
   "source": [
    "# 載入 Callbacks\n",
    "from keras.callbacks import Callback\n",
    "\n",
    "# Record_fp_tp\n",
    "class Record_tp_tn(Callback):\n",
    "    \"\"\"Code Here\n",
    "    撰寫一個紀錄 ture positive 與 true negative 數量的 callbacks    \n",
    "    \"\"\"\n",
    "    def on_train_begin(self, epoch, logs = {}):\n",
    "        logs = logs or {}\n",
    "        record_items = [\"val_tp\", \"val_tn\"]\n",
    "        for i in record_items:\n",
    "            if i not in self.params['metrics']:\n",
    "                self.params['metrics'].append(i)\n",
    "                \n",
    "    def on_epoch_end(self, epoch, logs = {}, thres=0.5):\n",
    "        logs = logs or {}\n",
    "        y_true = self.validation_data[1].argmax(axis = 1)\n",
    "        y_pred = self.model.predict(self.validation_data[0])\n",
    "        y_pred = (y_pred[:, 1] >= thres) * 1\n",
    "        \n",
    "        tp = 0\n",
    "        tn = 0\n",
    "        for i in range(len(y_true)):\n",
    "            if y_true[i] == y_pred[i] == 1:\n",
    "                tp += 1\n",
    "            if y_true[i] == y_pred[i] == 0:\n",
    "                tn += 1 \n",
    "        \n",
    "        logs[\"val_tp\"] = tp\n",
    "        logs[\"val_tn\"] = tn\n",
    "\n",
    "        \n",
    "rec_tptn = Record_tp_tn()"
   ]
  },
  {
   "cell_type": "code",
   "execution_count": 8,
   "metadata": {
    "scrolled": true
   },
   "outputs": [
    {
     "name": "stdout",
     "output_type": "stream",
     "text": [
      "WARNING:tensorflow:From C:\\Users\\Xu Qiao Qi\\Anaconda3\\lib\\site-packages\\tensorflow\\python\\framework\\op_def_library.py:263: colocate_with (from tensorflow.python.framework.ops) is deprecated and will be removed in a future version.\n",
      "Instructions for updating:\n",
      "Colocations handled automatically by placer.\n",
      "_________________________________________________________________\n",
      "Layer (type)                 Output Shape              Param #   \n",
      "=================================================================\n",
      "input_1 (InputLayer)         (None, 3072)              0         \n",
      "_________________________________________________________________\n",
      "hidden_layer1 (Dense)        (None, 512)               1573376   \n",
      "_________________________________________________________________\n",
      "batch_normalization_1 (Batch (None, 512)               2048      \n",
      "_________________________________________________________________\n",
      "hidden_layer2 (Dense)        (None, 256)               131328    \n",
      "_________________________________________________________________\n",
      "batch_normalization_2 (Batch (None, 256)               1024      \n",
      "_________________________________________________________________\n",
      "hidden_layer3 (Dense)        (None, 128)               32896     \n",
      "_________________________________________________________________\n",
      "batch_normalization_3 (Batch (None, 128)               512       \n",
      "_________________________________________________________________\n",
      "output (Dense)               (None, 10)                1290      \n",
      "=================================================================\n",
      "Total params: 1,742,474\n",
      "Trainable params: 1,740,682\n",
      "Non-trainable params: 1,792\n",
      "_________________________________________________________________\n",
      "WARNING:tensorflow:From C:\\Users\\Xu Qiao Qi\\Anaconda3\\lib\\site-packages\\tensorflow\\python\\ops\\math_ops.py:3066: to_int32 (from tensorflow.python.ops.math_ops) is deprecated and will be removed in a future version.\n",
      "Instructions for updating:\n",
      "Use tf.cast instead.\n",
      "Train on 50000 samples, validate on 10000 samples\n",
      "Epoch 1/25\n",
      "50000/50000 [==============================] - 9s 185us/step - loss: 2.2040 - acc: 0.2659 - val_loss: 2.0318 - val_acc: 0.3339\n",
      "Epoch 2/25\n",
      "50000/50000 [==============================] - 7s 144us/step - loss: 1.7433 - acc: 0.3924 - val_loss: 1.7703 - val_acc: 0.3912\n",
      "Epoch 3/25\n",
      "50000/50000 [==============================] - 7s 147us/step - loss: 1.6213 - acc: 0.4330 - val_loss: 1.6742 - val_acc: 0.4100\n",
      "Epoch 4/25\n",
      "50000/50000 [==============================] - 7s 144us/step - loss: 1.5494 - acc: 0.4591 - val_loss: 1.6378 - val_acc: 0.4258\n",
      "Epoch 5/25\n",
      "50000/50000 [==============================] - 7s 148us/step - loss: 1.4939 - acc: 0.4789 - val_loss: 1.5936 - val_acc: 0.4349\n",
      "Epoch 6/25\n",
      "50000/50000 [==============================] - 8s 160us/step - loss: 1.4501 - acc: 0.4966 - val_loss: 1.5791 - val_acc: 0.4452\n",
      "Epoch 7/25\n",
      "50000/50000 [==============================] - 9s 171us/step - loss: 1.4105 - acc: 0.5096 - val_loss: 1.5374 - val_acc: 0.4592\n",
      "Epoch 8/25\n",
      "50000/50000 [==============================] - 8s 168us/step - loss: 1.3758 - acc: 0.5235 - val_loss: 1.5236 - val_acc: 0.4569\n",
      "Epoch 9/25\n",
      "50000/50000 [==============================] - 8s 169us/step - loss: 1.3437 - acc: 0.5337 - val_loss: 1.5073 - val_acc: 0.4667\n",
      "Epoch 10/25\n",
      "50000/50000 [==============================] - 9s 186us/step - loss: 1.3140 - acc: 0.5447 - val_loss: 1.5037 - val_acc: 0.4691\n",
      "Epoch 11/25\n",
      "50000/50000 [==============================] - 8s 159us/step - loss: 1.2863 - acc: 0.5543 - val_loss: 1.4870 - val_acc: 0.4765\n",
      "Epoch 12/25\n",
      "50000/50000 [==============================] - 8s 159us/step - loss: 1.2577 - acc: 0.5645 - val_loss: 1.4839 - val_acc: 0.4805\n",
      "Epoch 13/25\n",
      "50000/50000 [==============================] - 8s 162us/step - loss: 1.2344 - acc: 0.5736 - val_loss: 1.4773 - val_acc: 0.4813\n",
      "Epoch 14/25\n",
      "50000/50000 [==============================] - 8s 168us/step - loss: 1.2079 - acc: 0.5827 - val_loss: 1.4721 - val_acc: 0.4853\n",
      "Epoch 15/25\n",
      "50000/50000 [==============================] - 8s 157us/step - loss: 1.1850 - acc: 0.5936 - val_loss: 1.4816 - val_acc: 0.4786\n",
      "Epoch 16/25\n",
      "50000/50000 [==============================] - 8s 162us/step - loss: 1.1606 - acc: 0.6001 - val_loss: 1.4593 - val_acc: 0.4858\n",
      "Epoch 17/25\n",
      "50000/50000 [==============================] - 8s 159us/step - loss: 1.1375 - acc: 0.6108 - val_loss: 1.4612 - val_acc: 0.4903\n",
      "Epoch 18/25\n",
      "50000/50000 [==============================] - 8s 158us/step - loss: 1.1148 - acc: 0.6180 - val_loss: 1.4563 - val_acc: 0.4889\n",
      "Epoch 19/25\n",
      "50000/50000 [==============================] - 8s 166us/step - loss: 1.0913 - acc: 0.6270 - val_loss: 1.4575 - val_acc: 0.4891\n",
      "Epoch 20/25\n",
      "50000/50000 [==============================] - 8s 155us/step - loss: 1.0699 - acc: 0.6367 - val_loss: 1.4650 - val_acc: 0.4884\n",
      "Epoch 21/25\n",
      "50000/50000 [==============================] - 8s 158us/step - loss: 1.0504 - acc: 0.6438 - val_loss: 1.4697 - val_acc: 0.4863\n",
      "Epoch 22/25\n",
      "50000/50000 [==============================] - 8s 154us/step - loss: 1.0277 - acc: 0.6520 - val_loss: 1.4585 - val_acc: 0.4964\n",
      "Epoch 23/25\n",
      "50000/50000 [==============================] - 8s 157us/step - loss: 1.0082 - acc: 0.6595 - val_loss: 1.4589 - val_acc: 0.4874\n",
      "Epoch 24/25\n",
      "50000/50000 [==============================] - 8s 156us/step - loss: 0.9871 - acc: 0.6668 - val_loss: 1.4619 - val_acc: 0.4949\n",
      "Epoch 25/25\n",
      "50000/50000 [==============================] - 9s 170us/step - loss: 0.9663 - acc: 0.6752 - val_loss: 1.4777 - val_acc: 0.4908\n"
     ]
    }
   ],
   "source": [
    "model = build_mlp(input_shape=x_train.shape[1:])\n",
    "model.summary()\n",
    "optimizer = keras.optimizers.SGD(lr=LEARNING_RATE, nesterov=True, momentum=MOMENTUM)\n",
    "model.compile(loss=\"categorical_crossentropy\", metrics=[\"accuracy\"], optimizer=optimizer)\n",
    "\n",
    "\"\"\"Code Here\n",
    "將 callbacks 放入模型訓練流程中\n",
    "\"\"\"\n",
    "model.fit(x_train, y_train, \n",
    "          epochs=EPOCHS, \n",
    "          batch_size=BATCH_SIZE, \n",
    "          validation_data=(x_test, y_test), \n",
    "          shuffle=True,\n",
    "          callbacks=[rec_tptn]\n",
    "         )\n",
    "\n",
    "# Collect results\n",
    "train_loss = model.history.history[\"loss\"]\n",
    "valid_loss = model.history.history[\"val_loss\"]\n",
    "train_acc = model.history.history[\"acc\"]\n",
    "valid_acc = model.history.history[\"val_acc\"]\n",
    "\n",
    "\"\"\"Code Here\n",
    "將 tp/tn 從訓練完的模型中取出\n",
    "\"\"\"\n",
    "valid_tp = model.history.history['val_tp']\n",
    "valid_tn= model.history.history['val_tn'] \n"
   ]
  },
  {
   "cell_type": "code",
   "execution_count": 9,
   "metadata": {},
   "outputs": [
    {
     "data": {
      "image/png": "[encoded data removed]",
      "text/plain": [
       "<Figure size 432x288 with 1 Axes>"
      ]
     },
     "metadata": {
      "needs_background": "light"
     },
     "output_type": "display_data"
    },
    {
     "data": {
      "image/png": "[encoded data removed]",
      "text/plain": [
       "<Figure size 432x288 with 1 Axes>"
      ]
     },
     "metadata": {
      "needs_background": "light"
     },
     "output_type": "display_data"
    },
    {
     "data": {
      "image/png": "[encoded data removed]",
      "text/plain": [
       "<Figure size 432x288 with 1 Axes>"
      ]
     },
     "metadata": {
      "needs_background": "light"
     },
     "output_type": "display_data"
    }
   ],
   "source": [
    "import matplotlib.pyplot as plt\n",
    "%matplotlib inline\n",
    "\n",
    "plt.plot(range(len(train_loss)), train_loss, label=\"train loss\")\n",
    "plt.plot(range(len(valid_loss)), valid_loss, label=\"valid loss\")\n",
    "plt.legend()\n",
    "plt.title(\"Loss\")\n",
    "plt.show()\n",
    "\n",
    "plt.plot(range(len(train_acc)), train_acc, label=\"train accuracy\")\n",
    "plt.plot(range(len(valid_acc)), valid_acc, label=\"valid accuracy\")\n",
    "plt.legend()\n",
    "plt.title(\"Accuracy\")\n",
    "plt.show()\n",
    "\n",
    "plt.plot(range(len(valid_tp)), valid_tp, label=\"valid tp\", color=\"navy\")\n",
    "plt.plot(range(len(valid_tn)), valid_tn, label=\"valid tn\", color=\"red\")\n",
    "plt.legend()\n",
    "plt.title(\"True positives and True Negatives\")\n",
    "plt.show()\n"
   ]
  }
 ],
 "metadata": {
  "kernelspec": {
   "display_name": "Python 3",
   "language": "python",
   "name": "python3"
  },
  "language_info": {
   "codemirror_mode": {
    "name": "ipython",
    "version": 3
   },
   "file_extension": ".py",
   "mimetype": "text/x-python",
   "name": "python",
   "nbconvert_exporter": "python",
   "pygments_lexer": "ipython3",
   "version": "3.7.1"
  }
 },
 "nbformat": 4,
 "nbformat_minor": 2
}
