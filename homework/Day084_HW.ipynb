{
 "cells": [
  {
   "cell_type": "markdown",
   "metadata": {},
   "source": [
    "## Work\n",
    "### 請結合前面的知識與程式碼，比較不同的 regularization 的組合對訓練的結果與影響：如 dropout, regularizers, batch-normalization 等"
   ]
  },
  {
   "cell_type": "code",
   "execution_count": 1,
   "metadata": {},
   "outputs": [
    {
     "name": "stderr",
     "output_type": "stream",
     "text": [
      "Using TensorFlow backend.\n"
     ]
    }
   ],
   "source": [
    "import os\n",
    "import keras\n",
    "import itertools\n",
    "# Disable GPU\n",
    "os.environ[\"CUDA_VISIBLE_DEVICES\"] = \"\""
   ]
  },
  {
   "cell_type": "code",
   "execution_count": 2,
   "metadata": {},
   "outputs": [],
   "source": [
    "train, test = keras.datasets.cifar10.load_data()"
   ]
  },
  {
   "cell_type": "code",
   "execution_count": 3,
   "metadata": {},
   "outputs": [],
   "source": [
    "## 資料前處理\n",
    "def preproc_x(x, flatten=True):\n",
    "    x = x / 255.\n",
    "    if flatten:\n",
    "        x = x.reshape((len(x), -1))\n",
    "    return x\n",
    "\n",
    "def preproc_y(y, num_classes=10):\n",
    "    if y.shape[-1] == 1:\n",
    "        y = keras.utils.to_categorical(y, num_classes)\n",
    "    return y    "
   ]
  },
  {
   "cell_type": "code",
   "execution_count": 4,
   "metadata": {},
   "outputs": [],
   "source": [
    "x_train, y_train = train\n",
    "x_test, y_test = test\n",
    "\n",
    "# Preproc the inputs\n",
    "x_train = preproc_x(x_train)\n",
    "x_test = preproc_x(x_test)\n",
    "\n",
    "# Preprc the outputs\n",
    "y_train = preproc_y(y_train)\n",
    "y_test = preproc_y(y_test)"
   ]
  },
  {
   "cell_type": "code",
   "execution_count": 5,
   "metadata": {},
   "outputs": [],
   "source": [
    "from keras.layers import BatchNormalization\n",
    "from keras.layers import Dropout\n",
    "\"\"\"\n",
    "建立神經網路，並加入 BN layer\n",
    "\"\"\"\n",
    "def build_mlp(input_shape, output_units=10, num_neurons=[512, 256, 128], drp_ratio=0.2):\n",
    "    input_layer = keras.layers.Input(input_shape)\n",
    "    \n",
    "    for i, n_units in enumerate(num_neurons):\n",
    "        if i == 0:\n",
    "            x = keras.layers.Dense(units=n_units, \n",
    "                                   activation=\"relu\", \n",
    "                                   name=\"hidden_layer\"+str(i+1))(input_layer)\n",
    "            x = BatchNormalization()(x)\n",
    "        else:\n",
    "            x = keras.layers.Dense(units=n_units, \n",
    "                                   activation=\"relu\", \n",
    "                                   name=\"hidden_layer\"+str(i+1))(x)\n",
    "            x = BatchNormalization()(x)\n",
    "    \n",
    "    out = keras.layers.Dense(units=output_units, activation=\"softmax\", name=\"output\")(x)\n",
    "    \n",
    "    model = keras.models.Model(inputs=[input_layer], outputs=[out])\n",
    "    return model"
   ]
  },
  {
   "cell_type": "code",
   "execution_count": 6,
   "metadata": {},
   "outputs": [],
   "source": [
    "\"\"\"Code Here\n",
    "設定超參數\n",
    "\"\"\"\n",
    "LEARNING_RATE = 1e-3\n",
    "EPOCHS = 50\n",
    "BATCH_SIZE = 1024\n",
    "MOMENTUM = 0.95\n",
    "Dropout_EXP = 0.25"
   ]
  },
  {
   "cell_type": "code",
   "execution_count": 7,
   "metadata": {
    "scrolled": true
   },
   "outputs": [
    {
     "name": "stdout",
     "output_type": "stream",
     "text": [
      "WARNING:tensorflow:From C:\\Users\\Xu Qiao Qi\\Anaconda3\\lib\\site-packages\\tensorflow\\python\\framework\\op_def_library.py:263: colocate_with (from tensorflow.python.framework.ops) is deprecated and will be removed in a future version.\n",
      "Instructions for updating:\n",
      "Colocations handled automatically by placer.\n",
      "_________________________________________________________________\n",
      "Layer (type)                 Output Shape              Param #   \n",
      "=================================================================\n",
      "input_1 (InputLayer)         (None, 3072)              0         \n",
      "_________________________________________________________________\n",
      "hidden_layer1 (Dense)        (None, 512)               1573376   \n",
      "_________________________________________________________________\n",
      "batch_normalization_1 (Batch (None, 512)               2048      \n",
      "_________________________________________________________________\n",
      "hidden_layer2 (Dense)        (None, 256)               131328    \n",
      "_________________________________________________________________\n",
      "batch_normalization_2 (Batch (None, 256)               1024      \n",
      "_________________________________________________________________\n",
      "hidden_layer3 (Dense)        (None, 128)               32896     \n",
      "_________________________________________________________________\n",
      "batch_normalization_3 (Batch (None, 128)               512       \n",
      "_________________________________________________________________\n",
      "output (Dense)               (None, 10)                1290      \n",
      "=================================================================\n",
      "Total params: 1,742,474\n",
      "Trainable params: 1,740,682\n",
      "Non-trainable params: 1,792\n",
      "_________________________________________________________________\n",
      "WARNING:tensorflow:From C:\\Users\\Xu Qiao Qi\\Anaconda3\\lib\\site-packages\\tensorflow\\python\\ops\\math_ops.py:3066: to_int32 (from tensorflow.python.ops.math_ops) is deprecated and will be removed in a future version.\n",
      "Instructions for updating:\n",
      "Use tf.cast instead.\n",
      "Train on 50000 samples, validate on 10000 samples\n",
      "Epoch 1/50\n",
      "50000/50000 [==============================] - 9s 185us/step - loss: 2.2255 - acc: 0.2711 - val_loss: 2.0627 - val_acc: 0.3269\n",
      "Epoch 2/50\n",
      "50000/50000 [==============================] - 7s 144us/step - loss: 1.7336 - acc: 0.3953 - val_loss: 1.7902 - val_acc: 0.3807\n",
      "Epoch 3/50\n",
      "50000/50000 [==============================] - 7s 147us/step - loss: 1.6124 - acc: 0.4361 - val_loss: 1.6900 - val_acc: 0.4115\n",
      "Epoch 4/50\n",
      "50000/50000 [==============================] - 8s 153us/step - loss: 1.5428 - acc: 0.4608 - val_loss: 1.6204 - val_acc: 0.4291\n",
      "Epoch 5/50\n",
      "50000/50000 [==============================] - 8s 163us/step - loss: 1.4893 - acc: 0.4803 - val_loss: 1.5785 - val_acc: 0.4435\n",
      "Epoch 6/50\n",
      "50000/50000 [==============================] - 8s 158us/step - loss: 1.4440 - acc: 0.4972 - val_loss: 1.5561 - val_acc: 0.4501\n",
      "Epoch 7/50\n",
      "50000/50000 [==============================] - 8s 160us/step - loss: 1.4073 - acc: 0.5090 - val_loss: 1.5446 - val_acc: 0.4555\n",
      "Epoch 8/50\n",
      "50000/50000 [==============================] - 8s 159us/step - loss: 1.3715 - acc: 0.5217 - val_loss: 1.5163 - val_acc: 0.4637\n",
      "Epoch 9/50\n",
      "50000/50000 [==============================] - 8s 161us/step - loss: 1.3388 - acc: 0.5351 - val_loss: 1.5003 - val_acc: 0.4672\n",
      "Epoch 10/50\n",
      "50000/50000 [==============================] - 8s 159us/step - loss: 1.3091 - acc: 0.5449 - val_loss: 1.5132 - val_acc: 0.4676\n",
      "Epoch 11/50\n",
      "50000/50000 [==============================] - 8s 162us/step - loss: 1.2814 - acc: 0.5553 - val_loss: 1.4817 - val_acc: 0.4774\n",
      "Epoch 12/50\n",
      "50000/50000 [==============================] - 10s 204us/step - loss: 1.2532 - acc: 0.5658 - val_loss: 1.4739 - val_acc: 0.4819\n",
      "Epoch 13/50\n",
      "50000/50000 [==============================] - 10s 191us/step - loss: 1.2289 - acc: 0.5756 - val_loss: 1.4686 - val_acc: 0.4779\n",
      "Epoch 14/50\n",
      "50000/50000 [==============================] - 9s 177us/step - loss: 1.2042 - acc: 0.5845 - val_loss: 1.4577 - val_acc: 0.4839\n",
      "Epoch 15/50\n",
      "50000/50000 [==============================] - 10s 196us/step - loss: 1.1792 - acc: 0.5946 - val_loss: 1.4642 - val_acc: 0.4852\n",
      "Epoch 16/50\n",
      "50000/50000 [==============================] - 9s 170us/step - loss: 1.1562 - acc: 0.6024 - val_loss: 1.4637 - val_acc: 0.4877\n",
      "Epoch 17/50\n",
      "50000/50000 [==============================] - 8s 167us/step - loss: 1.1332 - acc: 0.6141 - val_loss: 1.4572 - val_acc: 0.4914\n",
      "Epoch 18/50\n",
      "50000/50000 [==============================] - 9s 171us/step - loss: 1.1121 - acc: 0.6182 - val_loss: 1.4523 - val_acc: 0.4891\n",
      "Epoch 19/50\n",
      "50000/50000 [==============================] - 8s 163us/step - loss: 1.0892 - acc: 0.6266 - val_loss: 1.4493 - val_acc: 0.4912\n",
      "Epoch 20/50\n",
      "50000/50000 [==============================] - 8s 165us/step - loss: 1.0669 - acc: 0.6358 - val_loss: 1.4617 - val_acc: 0.4898\n",
      "Epoch 21/50\n",
      "50000/50000 [==============================] - 8s 166us/step - loss: 1.0463 - acc: 0.6446 - val_loss: 1.4455 - val_acc: 0.4975\n",
      "Epoch 22/50\n",
      "50000/50000 [==============================] - 8s 166us/step - loss: 1.0238 - acc: 0.6518 - val_loss: 1.4542 - val_acc: 0.4943\n",
      "Epoch 23/50\n",
      "50000/50000 [==============================] - 8s 158us/step - loss: 1.0040 - acc: 0.6615 - val_loss: 1.4596 - val_acc: 0.4913\n",
      "Epoch 24/50\n",
      "50000/50000 [==============================] - 8s 163us/step - loss: 0.9816 - acc: 0.6699 - val_loss: 1.4660 - val_acc: 0.4922\n",
      "Epoch 25/50\n",
      "50000/50000 [==============================] - 8s 158us/step - loss: 0.9622 - acc: 0.6771 - val_loss: 1.4611 - val_acc: 0.4999\n",
      "Epoch 26/50\n",
      "50000/50000 [==============================] - 8s 158us/step - loss: 0.9422 - acc: 0.6830 - val_loss: 1.4612 - val_acc: 0.4988\n",
      "Epoch 27/50\n",
      "50000/50000 [==============================] - 8s 158us/step - loss: 0.9210 - acc: 0.6931 - val_loss: 1.4636 - val_acc: 0.4961\n",
      "Epoch 28/50\n",
      "50000/50000 [==============================] - 8s 168us/step - loss: 0.9008 - acc: 0.7014 - val_loss: 1.4671 - val_acc: 0.4961\n",
      "Epoch 29/50\n",
      "50000/50000 [==============================] - 8s 161us/step - loss: 0.8808 - acc: 0.7097 - val_loss: 1.4760 - val_acc: 0.4996\n",
      "Epoch 30/50\n",
      "50000/50000 [==============================] - 9s 183us/step - loss: 0.8611 - acc: 0.7174 - val_loss: 1.4773 - val_acc: 0.4993\n",
      "Epoch 31/50\n",
      "50000/50000 [==============================] - 8s 159us/step - loss: 0.8415 - acc: 0.7232 - val_loss: 1.4785 - val_acc: 0.5001\n",
      "Epoch 32/50\n",
      "50000/50000 [==============================] - 8s 161us/step - loss: 0.8209 - acc: 0.7306 - val_loss: 1.5104 - val_acc: 0.4959\n",
      "Epoch 33/50\n",
      "50000/50000 [==============================] - 8s 155us/step - loss: 0.8032 - acc: 0.7386 - val_loss: 1.4946 - val_acc: 0.4957\n",
      "Epoch 34/50\n",
      "50000/50000 [==============================] - 8s 159us/step - loss: 0.7833 - acc: 0.7473 - val_loss: 1.4951 - val_acc: 0.4978\n",
      "Epoch 35/50\n",
      "50000/50000 [==============================] - 8s 155us/step - loss: 0.7630 - acc: 0.7561 - val_loss: 1.5168 - val_acc: 0.4959\n",
      "Epoch 36/50\n",
      "50000/50000 [==============================] - 10s 191us/step - loss: 0.7460 - acc: 0.7621 - val_loss: 1.5170 - val_acc: 0.5036\n",
      "Epoch 37/50\n",
      "50000/50000 [==============================] - 8s 160us/step - loss: 0.7270 - acc: 0.7698 - val_loss: 1.5165 - val_acc: 0.4989\n",
      "Epoch 38/50\n",
      "50000/50000 [==============================] - 9s 184us/step - loss: 0.7065 - acc: 0.7772 - val_loss: 1.5207 - val_acc: 0.4999\n",
      "Epoch 39/50\n",
      "50000/50000 [==============================] - 8s 165us/step - loss: 0.6890 - acc: 0.7841 - val_loss: 1.5259 - val_acc: 0.4988\n",
      "Epoch 40/50\n",
      "50000/50000 [==============================] - 8s 163us/step - loss: 0.6701 - acc: 0.7946 - val_loss: 1.5503 - val_acc: 0.4921\n",
      "Epoch 41/50\n",
      "50000/50000 [==============================] - 8s 159us/step - loss: 0.6509 - acc: 0.8008 - val_loss: 1.5705 - val_acc: 0.4915\n",
      "Epoch 42/50\n",
      "50000/50000 [==============================] - 8s 164us/step - loss: 0.6343 - acc: 0.8066 - val_loss: 1.5817 - val_acc: 0.4966\n",
      "Epoch 43/50\n",
      "50000/50000 [==============================] - 8s 162us/step - loss: 0.6177 - acc: 0.8130 - val_loss: 1.5868 - val_acc: 0.4964\n",
      "Epoch 44/50\n",
      "50000/50000 [==============================] - 9s 171us/step - loss: 0.5963 - acc: 0.8214 - val_loss: 1.6012 - val_acc: 0.4946\n",
      "Epoch 45/50\n"
     ]
    },
    {
     "name": "stdout",
     "output_type": "stream",
     "text": [
      "50000/50000 [==============================] - 8s 159us/step - loss: 0.5799 - acc: 0.8289 - val_loss: 1.5978 - val_acc: 0.4937\n",
      "Epoch 46/50\n",
      "50000/50000 [==============================] - 8s 164us/step - loss: 0.5642 - acc: 0.8337 - val_loss: 1.6226 - val_acc: 0.4885\n",
      "Epoch 47/50\n",
      "50000/50000 [==============================] - 8s 167us/step - loss: 0.5475 - acc: 0.8409 - val_loss: 1.6178 - val_acc: 0.4948\n",
      "Epoch 48/50\n",
      "50000/50000 [==============================] - 8s 156us/step - loss: 0.5306 - acc: 0.8478 - val_loss: 1.6450 - val_acc: 0.4943\n",
      "Epoch 49/50\n",
      "50000/50000 [==============================] - 8s 151us/step - loss: 0.5140 - acc: 0.8542 - val_loss: 1.6545 - val_acc: 0.4909\n",
      "Epoch 50/50\n",
      "50000/50000 [==============================] - 9s 171us/step - loss: 0.4993 - acc: 0.8609 - val_loss: 1.6580 - val_acc: 0.4932\n"
     ]
    }
   ],
   "source": [
    "results = {}\n",
    "\"\"\"Code Here\n",
    "撰寫你的訓練流程並將結果用 dictionary 紀錄\n",
    "\"\"\"\n",
    "\n",
    "model = build_mlp(input_shape=x_train.shape[1:], drp_ratio=Dropout_EXP)\n",
    "model.summary()\n",
    "optimizer = keras.optimizers.SGD(lr=LEARNING_RATE, nesterov=True, momentum=MOMENTUM)\n",
    "model.compile(loss=\"categorical_crossentropy\", metrics=[\"accuracy\"], optimizer=optimizer)\n",
    "\n",
    "model.fit(x_train, y_train, \n",
    "          epochs=EPOCHS, \n",
    "          batch_size=BATCH_SIZE, \n",
    "          validation_data=(x_test, y_test), \n",
    "          shuffle=True)\n",
    "\n",
    "# Collect results\n",
    "train_loss = model.history.history[\"loss\"]\n",
    "valid_loss = model.history.history[\"val_loss\"]\n",
    "train_acc = model.history.history[\"acc\"]\n",
    "valid_acc = model.history.history[\"val_acc\"]"
   ]
  },
  {
   "cell_type": "code",
   "execution_count": 8,
   "metadata": {},
   "outputs": [
    {
     "data": {
      "image/png": "[encoded data removed]",
      "text/plain": [
       "<Figure size 432x288 with 1 Axes>"
      ]
     },
     "metadata": {
      "needs_background": "light"
     },
     "output_type": "display_data"
    },
    {
     "data": {
      "image/png": "[encoded data removed]",
      "text/plain": [
       "<Figure size 432x288 with 1 Axes>"
      ]
     },
     "metadata": {
      "needs_background": "light"
     },
     "output_type": "display_data"
    }
   ],
   "source": [
    "import matplotlib.pyplot as plt\n",
    "%matplotlib inline\n",
    "\"\"\"Code Here\n",
    "將結果繪出\n",
    "\"\"\"\n",
    "plt.plot(range(len(train_loss)), train_loss, label=\"train loss\")\n",
    "plt.plot(range(len(valid_loss)), valid_loss, label=\"valid loss\")\n",
    "plt.legend()\n",
    "plt.title(\"Loss\")\n",
    "plt.show()\n",
    "\n",
    "plt.plot(range(len(train_acc)), train_acc, label=\"train accuracy\")\n",
    "plt.plot(range(len(valid_acc)), valid_acc, label=\"valid accuracy\")\n",
    "plt.legend()\n",
    "plt.title(\"Accuracy\")\n",
    "plt.show()"
   ]
  }
 ],
 "metadata": {
  "kernelspec": {
   "display_name": "Python 3",
   "language": "python",
   "name": "python3"
  },
  "language_info": {
   "codemirror_mode": {
    "name": "ipython",
    "version": 3
   },
   "file_extension": ".py",
   "mimetype": "text/x-python",
   "name": "python",
   "nbconvert_exporter": "python",
   "pygments_lexer": "ipython3",
   "version": "3.7.1"
  }
 },
 "nbformat": 4,
 "nbformat_minor": 2
}
