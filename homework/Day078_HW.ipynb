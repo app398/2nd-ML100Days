{
 "cells": [
  {
   "cell_type": "markdown",
   "metadata": {},
   "source": [
    "## Work\n",
    "1. 請嘗試將 preproc_x 替換成以每筆資料的 min/max 進行標準化至 -1 ~ 1 間，再進行訓練\n",
    "2. 請嘗試將 mlp 疊更深 (e.g 5~10 層)，進行訓練後觀察 learning curve 的走勢\n",
    "3. (optional) 請改用 GPU 進行訓練 (如果你有 GPU 的話)，比較使用 CPU 與 GPU 的訓練速度"
   ]
  },
  {
   "cell_type": "code",
   "execution_count": 1,
   "metadata": {},
   "outputs": [
    {
     "data": {
      "text/plain": [
       "'\\nYour code here (optional)\\n確認硬體資源\\n'"
      ]
     },
     "execution_count": 1,
     "metadata": {},
     "output_type": "execute_result"
    }
   ],
   "source": [
    "## \n",
    "\"\"\"\n",
    "Your code here (optional)\n",
    "確認硬體資源\n",
    "\"\"\"\n"
   ]
  },
  {
   "cell_type": "code",
   "execution_count": 2,
   "metadata": {},
   "outputs": [
    {
     "name": "stderr",
     "output_type": "stream",
     "text": [
      "Using TensorFlow backend.\n"
     ]
    }
   ],
   "source": [
    "import os\n",
    "import keras\n",
    "\n",
    "# 請嘗試設定 GPU：os.environ\n",
    "os.environ[\"CUDA_VISIBLE_DEVICES\"] = \"\""
   ]
  },
  {
   "cell_type": "code",
   "execution_count": 3,
   "metadata": {},
   "outputs": [],
   "source": [
    "train, test = keras.datasets.cifar10.load_data()"
   ]
  },
  {
   "cell_type": "code",
   "execution_count": 4,
   "metadata": {},
   "outputs": [],
   "source": [
    "## 資料前處理\n",
    "\"\"\"\n",
    "Your code here\n",
    "\"\"\"\n",
    "def preproc_x(x, flatten=True):\n",
    "    x = 2*(x / 255.)-1\n",
    "    if flatten:\n",
    "        x = x.reshape((len(x), -1))\n",
    "    return x\n",
    "\n",
    "def preproc_y(y, num_classes=10):\n",
    "    if y.shape[-1] == 1:\n",
    "        y = keras.utils.to_categorical(y, num_classes)\n",
    "    return y    "
   ]
  },
  {
   "cell_type": "code",
   "execution_count": 5,
   "metadata": {},
   "outputs": [
    {
     "name": "stdout",
     "output_type": "stream",
     "text": [
      "[[-0.5372549  -0.51372549 -0.50588235 ... -0.03529412 -0.27843137\n",
      "  -0.43529412]\n",
      " [ 0.20784314  0.38823529  0.46666667 ...  0.12156863  0.04313725\n",
      "   0.12941176]\n",
      " [ 1.          1.          1.         ... -0.37254902 -0.3254902\n",
      "  -0.34117647]\n",
      " ...\n",
      " [-0.7254902   0.39607843  0.84313725 ... -0.90588235 -0.75686275\n",
      "  -0.60784314]\n",
      " [ 0.48235294  0.65490196  0.88235294 ...  0.52941176  0.49019608\n",
      "   0.34117647]\n",
      " [ 0.79607843  0.79607843  0.8745098  ...  0.27843137  0.27843137\n",
      "   0.2627451 ]]\n"
     ]
    }
   ],
   "source": [
    "x_train, y_train = train\n",
    "x_test, y_test = test\n",
    "\n",
    "# Preproc the inputs\n",
    "x_train = preproc_x(x_train)\n",
    "x_test = preproc_x(x_test)\n",
    "\n",
    "# Preprc the outputs\n",
    "y_train = preproc_y(y_train)\n",
    "y_test = preproc_y(y_test)\n",
    "print(x_train)"
   ]
  },
  {
   "cell_type": "code",
   "execution_count": 6,
   "metadata": {},
   "outputs": [
    {
     "name": "stdout",
     "output_type": "stream",
     "text": [
      "WARNING:tensorflow:From C:\\Users\\Xu Qiao Qi\\Anaconda3\\lib\\site-packages\\tensorflow\\python\\framework\\op_def_library.py:263: colocate_with (from tensorflow.python.framework.ops) is deprecated and will be removed in a future version.\n",
      "Instructions for updating:\n",
      "Colocations handled automatically by placer.\n",
      "_________________________________________________________________\n",
      "Layer (type)                 Output Shape              Param #   \n",
      "=================================================================\n",
      "input_1 (InputLayer)         (None, 3072)              0         \n",
      "_________________________________________________________________\n",
      "hidden_layer1 (Dense)        (None, 512)               1573376   \n",
      "_________________________________________________________________\n",
      "hidden_layer2 (Dense)        (None, 256)               131328    \n",
      "_________________________________________________________________\n",
      "hidden_layer3 (Dense)        (None, 128)               32896     \n",
      "_________________________________________________________________\n",
      "hidden_layer4 (Dense)        (None, 64)                8256      \n",
      "_________________________________________________________________\n",
      "hidden_layer5 (Dense)        (None, 32)                2080      \n",
      "_________________________________________________________________\n",
      "hidden_layer6 (Dense)        (None, 16)                528       \n",
      "_________________________________________________________________\n",
      "hidden_layer7 (Dense)        (None, 8)                 136       \n",
      "_________________________________________________________________\n",
      "hidden_layer8 (Dense)        (None, 4)                 36        \n",
      "_________________________________________________________________\n",
      "hidden_layer9 (Dense)        (None, 2)                 10        \n",
      "_________________________________________________________________\n",
      "output (Dense)               (None, 10)                30        \n",
      "=================================================================\n",
      "Total params: 1,748,676\n",
      "Trainable params: 1,748,676\n",
      "Non-trainable params: 0\n",
      "_________________________________________________________________\n"
     ]
    }
   ],
   "source": [
    "\"\"\"Code Here\n",
    "建立你的神經網路\n",
    "\"\"\"\n",
    "def build_mlp(input_shape, output_units=10, num_neurons=[512, 256, 128, 64, 32, 16, 8, 4, 2]):\n",
    "    input_layer = keras.layers.Input(input_shape)\n",
    "    \n",
    "    for i, n_units in enumerate(num_neurons):\n",
    "        if i == 0:\n",
    "            x = keras.layers.Dense(units=n_units, activation=\"relu\", name=\"hidden_layer\"+str(i+1))(input_layer)\n",
    "        else:\n",
    "            x = keras.layers.Dense(units=n_units, activation=\"relu\", name=\"hidden_layer\"+str(i+1))(x)\n",
    "    \n",
    "    out = keras.layers.Dense(units=output_units, activation=\"softmax\", name=\"output\")(x)\n",
    "    \n",
    "    model = keras.models.Model(inputs=[input_layer], outputs=[out])\n",
    "    return model\n",
    "\n",
    "model = build_mlp(input_shape=x_train.shape[1:])\n",
    "model.summary()"
   ]
  },
  {
   "cell_type": "code",
   "execution_count": 7,
   "metadata": {},
   "outputs": [],
   "source": [
    "## 超參數設定\n",
    "LEARNING_RATE = 0.001\n",
    "EPOCHS = 100\n",
    "BATCH_SIZE = 256"
   ]
  },
  {
   "cell_type": "code",
   "execution_count": 8,
   "metadata": {},
   "outputs": [],
   "source": [
    "optimizer = keras.optimizers.Adam(lr=LEARNING_RATE)\n",
    "model.compile(loss=\"categorical_crossentropy\", metrics=[\"accuracy\"], optimizer=optimizer)"
   ]
  },
  {
   "cell_type": "code",
   "execution_count": 9,
   "metadata": {},
   "outputs": [
    {
     "name": "stdout",
     "output_type": "stream",
     "text": [
      "WARNING:tensorflow:From C:\\Users\\Xu Qiao Qi\\Anaconda3\\lib\\site-packages\\tensorflow\\python\\ops\\math_ops.py:3066: to_int32 (from tensorflow.python.ops.math_ops) is deprecated and will be removed in a future version.\n",
      "Instructions for updating:\n",
      "Use tf.cast instead.\n",
      "Train on 50000 samples, validate on 10000 samples\n",
      "Epoch 1/100\n",
      "50000/50000 [==============================] - 13s 256us/step - loss: 2.1409 - acc: 0.1831 - val_loss: 2.0148 - val_acc: 0.2125\n",
      "Epoch 2/100\n",
      "50000/50000 [==============================] - 11s 216us/step - loss: 1.9222 - acc: 0.2499 - val_loss: 1.8428 - val_acc: 0.2918\n",
      "Epoch 3/100\n",
      "50000/50000 [==============================] - 11s 211us/step - loss: 1.7775 - acc: 0.3339 - val_loss: 1.7381 - val_acc: 0.3617\n",
      "Epoch 4/100\n",
      "50000/50000 [==============================] - 11s 219us/step - loss: 1.6840 - acc: 0.3742 - val_loss: 1.6997 - val_acc: 0.3814\n",
      "Epoch 5/100\n",
      "50000/50000 [==============================] - 11s 218us/step - loss: 1.6114 - acc: 0.3965 - val_loss: 1.6720 - val_acc: 0.3896\n",
      "Epoch 6/100\n",
      "50000/50000 [==============================] - 11s 222us/step - loss: 1.5480 - acc: 0.4190 - val_loss: 1.6564 - val_acc: 0.4022\n",
      "Epoch 7/100\n",
      "50000/50000 [==============================] - 12s 237us/step - loss: 1.4863 - acc: 0.4399 - val_loss: 1.6373 - val_acc: 0.4120\n",
      "Epoch 8/100\n",
      "50000/50000 [==============================] - 10s 202us/step - loss: 1.4317 - acc: 0.4586 - val_loss: 1.6550 - val_acc: 0.4276\n",
      "Epoch 9/100\n",
      "50000/50000 [==============================] - 10s 204us/step - loss: 1.3737 - acc: 0.4815 - val_loss: 1.6567 - val_acc: 0.4181\n",
      "Epoch 10/100\n",
      "50000/50000 [==============================] - 10s 198us/step - loss: 1.3363 - acc: 0.4971 - val_loss: 1.6675 - val_acc: 0.4318\n",
      "Epoch 11/100\n",
      "50000/50000 [==============================] - 10s 194us/step - loss: 1.2763 - acc: 0.5176 - val_loss: 1.7049 - val_acc: 0.4384\n",
      "Epoch 12/100\n",
      "50000/50000 [==============================] - 10s 197us/step - loss: 1.2442 - acc: 0.5319 - val_loss: 1.6927 - val_acc: 0.4502\n",
      "Epoch 13/100\n",
      "50000/50000 [==============================] - 10s 195us/step - loss: 1.1822 - acc: 0.5526 - val_loss: 1.7245 - val_acc: 0.4567\n",
      "Epoch 14/100\n",
      "50000/50000 [==============================] - 10s 195us/step - loss: 1.1508 - acc: 0.5673 - val_loss: 1.7824 - val_acc: 0.4569\n",
      "Epoch 15/100\n",
      "50000/50000 [==============================] - 10s 195us/step - loss: 1.0906 - acc: 0.5866 - val_loss: 1.8090 - val_acc: 0.4621\n",
      "Epoch 16/100\n",
      "50000/50000 [==============================] - 10s 193us/step - loss: 1.0506 - acc: 0.6037 - val_loss: 1.8980 - val_acc: 0.4703\n",
      "Epoch 17/100\n",
      "50000/50000 [==============================] - 10s 196us/step - loss: 1.0253 - acc: 0.6171 - val_loss: 1.9498 - val_acc: 0.4771\n",
      "Epoch 18/100\n",
      "50000/50000 [==============================] - 10s 195us/step - loss: 0.9819 - acc: 0.6330 - val_loss: 1.8999 - val_acc: 0.4658\n",
      "Epoch 19/100\n",
      "50000/50000 [==============================] - 10s 195us/step - loss: 0.9323 - acc: 0.6487 - val_loss: 1.9515 - val_acc: 0.4726\n",
      "Epoch 20/100\n",
      "50000/50000 [==============================] - 10s 197us/step - loss: 0.9075 - acc: 0.6591 - val_loss: 2.0793 - val_acc: 0.4785\n",
      "Epoch 21/100\n",
      "50000/50000 [==============================] - 10s 195us/step - loss: 0.8734 - acc: 0.6719 - val_loss: 2.0773 - val_acc: 0.4817\n",
      "Epoch 22/100\n",
      "50000/50000 [==============================] - 10s 197us/step - loss: 0.8360 - acc: 0.6869 - val_loss: 2.1909 - val_acc: 0.4804\n",
      "Epoch 23/100\n",
      "50000/50000 [==============================] - 10s 197us/step - loss: 0.8108 - acc: 0.6978 - val_loss: 2.2242 - val_acc: 0.4826\n",
      "Epoch 24/100\n",
      "50000/50000 [==============================] - 10s 195us/step - loss: 0.7773 - acc: 0.7113 - val_loss: 2.3374 - val_acc: 0.4915\n",
      "Epoch 25/100\n",
      "50000/50000 [==============================] - 10s 197us/step - loss: 0.7418 - acc: 0.7272 - val_loss: 2.2203 - val_acc: 0.4786\n",
      "Epoch 26/100\n",
      "50000/50000 [==============================] - 10s 195us/step - loss: 0.7367 - acc: 0.7276 - val_loss: 2.3889 - val_acc: 0.4925\n",
      "Epoch 27/100\n",
      "50000/50000 [==============================] - 10s 201us/step - loss: 0.6990 - acc: 0.7439 - val_loss: 2.3990 - val_acc: 0.4875\n",
      "Epoch 28/100\n",
      "50000/50000 [==============================] - 10s 200us/step - loss: 0.6979 - acc: 0.7442 - val_loss: 2.3910 - val_acc: 0.4849\n",
      "Epoch 29/100\n",
      "50000/50000 [==============================] - 10s 198us/step - loss: 0.6607 - acc: 0.7578 - val_loss: 2.5122 - val_acc: 0.4922\n",
      "Epoch 30/100\n",
      "50000/50000 [==============================] - 10s 200us/step - loss: 0.6216 - acc: 0.7752 - val_loss: 2.6243 - val_acc: 0.4923\n",
      "Epoch 31/100\n",
      "50000/50000 [==============================] - 10s 200us/step - loss: 0.6066 - acc: 0.7817 - val_loss: 2.6286 - val_acc: 0.4873\n",
      "Epoch 32/100\n",
      "50000/50000 [==============================] - 10s 197us/step - loss: 0.5679 - acc: 0.7953 - val_loss: 2.6661 - val_acc: 0.4846\n",
      "Epoch 33/100\n",
      "50000/50000 [==============================] - 10s 198us/step - loss: 0.5431 - acc: 0.8041 - val_loss: 2.7236 - val_acc: 0.4853\n",
      "Epoch 34/100\n",
      "50000/50000 [==============================] - 10s 195us/step - loss: 0.5764 - acc: 0.7952 - val_loss: 2.8602 - val_acc: 0.4820\n",
      "Epoch 35/100\n",
      "50000/50000 [==============================] - 10s 198us/step - loss: 0.5868 - acc: 0.7921 - val_loss: 2.7412 - val_acc: 0.4855\n",
      "Epoch 36/100\n",
      "50000/50000 [==============================] - 10s 197us/step - loss: 0.5464 - acc: 0.8069 - val_loss: 2.7646 - val_acc: 0.4854\n",
      "Epoch 37/100\n",
      "50000/50000 [==============================] - 10s 196us/step - loss: 0.5132 - acc: 0.8188 - val_loss: 2.8661 - val_acc: 0.5020\n",
      "Epoch 38/100\n",
      "50000/50000 [==============================] - 10s 198us/step - loss: 0.5209 - acc: 0.8171 - val_loss: 2.9001 - val_acc: 0.4936\n",
      "Epoch 39/100\n",
      "50000/50000 [==============================] - 10s 195us/step - loss: 0.4675 - acc: 0.8389 - val_loss: 2.8897 - val_acc: 0.5048\n",
      "Epoch 40/100\n",
      "50000/50000 [==============================] - 10s 197us/step - loss: 0.4579 - acc: 0.8411 - val_loss: 3.0084 - val_acc: 0.4992\n",
      "Epoch 41/100\n",
      "50000/50000 [==============================] - 10s 197us/step - loss: 0.4628 - acc: 0.8420 - val_loss: 2.9361 - val_acc: 0.4973\n",
      "Epoch 42/100\n",
      "50000/50000 [==============================] - 10s 194us/step - loss: 0.4479 - acc: 0.8456 - val_loss: 3.0766 - val_acc: 0.4919\n",
      "Epoch 43/100\n",
      "50000/50000 [==============================] - 10s 197us/step - loss: 0.4552 - acc: 0.8453 - val_loss: 3.0747 - val_acc: 0.4916\n",
      "Epoch 44/100\n",
      "50000/50000 [==============================] - 10s 196us/step - loss: 0.4770 - acc: 0.8382 - val_loss: 3.1211 - val_acc: 0.5039\n",
      "Epoch 45/100\n",
      "50000/50000 [==============================] - 10s 196us/step - loss: 0.4081 - acc: 0.8644 - val_loss: 3.0830 - val_acc: 0.4989\n",
      "Epoch 46/100\n",
      "50000/50000 [==============================] - 10s 198us/step - loss: 0.4230 - acc: 0.8581 - val_loss: 3.0132 - val_acc: 0.4951\n",
      "Epoch 47/100\n",
      "50000/50000 [==============================] - 10s 195us/step - loss: 0.4580 - acc: 0.8473 - val_loss: 3.1052 - val_acc: 0.4973\n",
      "Epoch 48/100\n",
      "50000/50000 [==============================] - 10s 198us/step - loss: 0.3758 - acc: 0.8763 - val_loss: 3.2910 - val_acc: 0.4996\n",
      "Epoch 49/100\n",
      "50000/50000 [==============================] - 10s 198us/step - loss: 0.3440 - acc: 0.8860 - val_loss: 3.1959 - val_acc: 0.4913\n",
      "Epoch 50/100\n",
      "50000/50000 [==============================] - 10s 194us/step - loss: 0.3885 - acc: 0.8717 - val_loss: 3.1616 - val_acc: 0.4965\n",
      "Epoch 51/100\n",
      "50000/50000 [==============================] - 10s 197us/step - loss: 0.3599 - acc: 0.8820 - val_loss: 3.2787 - val_acc: 0.4935\n",
      "Epoch 52/100\n",
      "50000/50000 [==============================] - 10s 195us/step - loss: 0.3379 - acc: 0.8892 - val_loss: 3.2719 - val_acc: 0.4958\n",
      "Epoch 53/100\n",
      "50000/50000 [==============================] - 10s 199us/step - loss: 0.3306 - acc: 0.8943 - val_loss: 3.4439 - val_acc: 0.4880\n",
      "Epoch 54/100\n",
      "50000/50000 [==============================] - 10s 198us/step - loss: 0.3573 - acc: 0.8848 - val_loss: 3.3397 - val_acc: 0.4934\n",
      "Epoch 55/100\n",
      "50000/50000 [==============================] - 10s 195us/step - loss: 0.3549 - acc: 0.8859 - val_loss: 3.4368 - val_acc: 0.4848\n",
      "Epoch 56/100\n",
      "50000/50000 [==============================] - 10s 198us/step - loss: 0.3444 - acc: 0.8891 - val_loss: 3.3812 - val_acc: 0.4958\n"
     ]
    },
    {
     "name": "stdout",
     "output_type": "stream",
     "text": [
      "Epoch 57/100\n",
      "50000/50000 [==============================] - 10s 199us/step - loss: 0.4046 - acc: 0.8705 - val_loss: 3.1655 - val_acc: 0.4925\n",
      "Epoch 58/100\n",
      "50000/50000 [==============================] - 10s 198us/step - loss: 0.3109 - acc: 0.9000 - val_loss: 3.5424 - val_acc: 0.4933\n",
      "Epoch 59/100\n",
      "50000/50000 [==============================] - 10s 198us/step - loss: 0.2621 - acc: 0.9181 - val_loss: 3.5453 - val_acc: 0.4961\n",
      "Epoch 60/100\n",
      "50000/50000 [==============================] - 10s 194us/step - loss: 0.2722 - acc: 0.9143 - val_loss: 3.7704 - val_acc: 0.4929\n",
      "Epoch 61/100\n",
      "50000/50000 [==============================] - 10s 198us/step - loss: 0.2723 - acc: 0.9161 - val_loss: 3.6182 - val_acc: 0.4909\n",
      "Epoch 62/100\n",
      "50000/50000 [==============================] - 10s 199us/step - loss: 0.2554 - acc: 0.9210 - val_loss: 3.5799 - val_acc: 0.4933\n",
      "Epoch 63/100\n",
      "50000/50000 [==============================] - 10s 195us/step - loss: 0.2773 - acc: 0.9143 - val_loss: 3.5391 - val_acc: 0.4940\n",
      "Epoch 64/100\n",
      "50000/50000 [==============================] - 10s 198us/step - loss: 0.4024 - acc: 0.8742 - val_loss: 3.3718 - val_acc: 0.4852\n",
      "Epoch 65/100\n",
      "50000/50000 [==============================] - 10s 194us/step - loss: 0.3716 - acc: 0.8821 - val_loss: 3.3203 - val_acc: 0.4898\n",
      "Epoch 66/100\n",
      "50000/50000 [==============================] - 10s 198us/step - loss: 0.2715 - acc: 0.9159 - val_loss: 3.6850 - val_acc: 0.4999\n",
      "Epoch 67/100\n",
      "50000/50000 [==============================] - 10s 197us/step - loss: 0.2588 - acc: 0.9210 - val_loss: 3.6362 - val_acc: 0.5005\n",
      "Epoch 68/100\n",
      "50000/50000 [==============================] - 10s 195us/step - loss: 0.2228 - acc: 0.9343 - val_loss: 3.7961 - val_acc: 0.4985\n",
      "Epoch 69/100\n",
      "50000/50000 [==============================] - 10s 198us/step - loss: 0.2359 - acc: 0.9298 - val_loss: 3.6337 - val_acc: 0.4962\n",
      "Epoch 70/100\n",
      "50000/50000 [==============================] - 10s 196us/step - loss: 0.2434 - acc: 0.9261 - val_loss: 3.7216 - val_acc: 0.4963\n",
      "Epoch 71/100\n",
      "50000/50000 [==============================] - 10s 196us/step - loss: 0.2317 - acc: 0.9308 - val_loss: 3.7697 - val_acc: 0.4985\n",
      "Epoch 72/100\n",
      "50000/50000 [==============================] - 10s 198us/step - loss: 0.2194 - acc: 0.9339 - val_loss: 3.7395 - val_acc: 0.4969\n",
      "Epoch 73/100\n",
      "50000/50000 [==============================] - 10s 195us/step - loss: 0.3347 - acc: 0.8982 - val_loss: 3.4952 - val_acc: 0.4892\n",
      "Epoch 74/100\n",
      "50000/50000 [==============================] - 10s 198us/step - loss: 0.3056 - acc: 0.9070 - val_loss: 3.5297 - val_acc: 0.4925\n",
      "Epoch 75/100\n",
      "50000/50000 [==============================] - 10s 197us/step - loss: 0.2240 - acc: 0.9320 - val_loss: 3.7722 - val_acc: 0.4991\n",
      "Epoch 76/100\n",
      "50000/50000 [==============================] - 10s 194us/step - loss: 0.1690 - acc: 0.9519 - val_loss: 4.0672 - val_acc: 0.4978\n",
      "Epoch 77/100\n",
      "50000/50000 [==============================] - 10s 197us/step - loss: 0.2490 - acc: 0.9265 - val_loss: 3.7645 - val_acc: 0.4977\n",
      "Epoch 78/100\n",
      "50000/50000 [==============================] - 10s 194us/step - loss: 0.2362 - acc: 0.9278 - val_loss: 3.8726 - val_acc: 0.4959\n",
      "Epoch 79/100\n",
      "50000/50000 [==============================] - 10s 198us/step - loss: 0.2080 - acc: 0.9377 - val_loss: 3.7672 - val_acc: 0.5007\n",
      "Epoch 80/100\n",
      "50000/50000 [==============================] - 10s 198us/step - loss: 0.2385 - acc: 0.9296 - val_loss: 3.7089 - val_acc: 0.4925\n",
      "Epoch 81/100\n",
      "50000/50000 [==============================] - 10s 194us/step - loss: 0.3279 - acc: 0.9017 - val_loss: 3.5228 - val_acc: 0.4954\n",
      "Epoch 82/100\n",
      "50000/50000 [==============================] - 10s 199us/step - loss: 0.2348 - acc: 0.9275 - val_loss: 3.7343 - val_acc: 0.5013\n",
      "Epoch 83/100\n",
      "50000/50000 [==============================] - 10s 197us/step - loss: 0.2123 - acc: 0.9393 - val_loss: 3.9915 - val_acc: 0.4920\n",
      "Epoch 84/100\n",
      "50000/50000 [==============================] - 10s 196us/step - loss: 0.1829 - acc: 0.9454 - val_loss: 3.8564 - val_acc: 0.4901\n",
      "Epoch 85/100\n",
      "50000/50000 [==============================] - 10s 197us/step - loss: 0.3036 - acc: 0.9111 - val_loss: 3.6509 - val_acc: 0.4917\n",
      "Epoch 86/100\n",
      "50000/50000 [==============================] - 10s 196us/step - loss: 0.2124 - acc: 0.9370 - val_loss: 3.7320 - val_acc: 0.4945\n",
      "Epoch 87/100\n",
      "50000/50000 [==============================] - 10s 199us/step - loss: 0.1453 - acc: 0.9593 - val_loss: 4.0156 - val_acc: 0.5039\n",
      "Epoch 88/100\n",
      "50000/50000 [==============================] - 10s 198us/step - loss: 0.1556 - acc: 0.9564 - val_loss: 3.9879 - val_acc: 0.4949\n",
      "Epoch 89/100\n",
      "50000/50000 [==============================] - 10s 197us/step - loss: 0.1706 - acc: 0.9518 - val_loss: 3.9343 - val_acc: 0.4892\n",
      "Epoch 90/100\n",
      "50000/50000 [==============================] - 10s 200us/step - loss: 0.1766 - acc: 0.9494 - val_loss: 4.0317 - val_acc: 0.4926\n",
      "Epoch 91/100\n",
      "50000/50000 [==============================] - 10s 195us/step - loss: 0.1858 - acc: 0.9470 - val_loss: 4.0120 - val_acc: 0.5007\n",
      "Epoch 92/100\n",
      "50000/50000 [==============================] - 10s 198us/step - loss: 0.1822 - acc: 0.9485 - val_loss: 3.9387 - val_acc: 0.4903\n",
      "Epoch 93/100\n",
      "50000/50000 [==============================] - 10s 197us/step - loss: 0.2420 - acc: 0.9277 - val_loss: 3.7960 - val_acc: 0.5009\n",
      "Epoch 94/100\n",
      "50000/50000 [==============================] - 10s 194us/step - loss: 0.1742 - acc: 0.9492 - val_loss: 3.8921 - val_acc: 0.4949\n",
      "Epoch 95/100\n",
      "50000/50000 [==============================] - 10s 199us/step - loss: 0.2060 - acc: 0.9394 - val_loss: 3.9574 - val_acc: 0.4964\n",
      "Epoch 96/100\n",
      "50000/50000 [==============================] - 10s 197us/step - loss: 0.2333 - acc: 0.9334 - val_loss: 3.7966 - val_acc: 0.4850\n",
      "Epoch 97/100\n",
      "50000/50000 [==============================] - 10s 195us/step - loss: 0.2164 - acc: 0.9362 - val_loss: 3.7547 - val_acc: 0.5001\n",
      "Epoch 98/100\n",
      "50000/50000 [==============================] - 10s 199us/step - loss: 0.1348 - acc: 0.9621 - val_loss: 4.1073 - val_acc: 0.4987\n",
      "Epoch 99/100\n",
      "50000/50000 [==============================] - 10s 196us/step - loss: 0.1272 - acc: 0.9649 - val_loss: 4.1133 - val_acc: 0.4993\n",
      "Epoch 100/100\n",
      "50000/50000 [==============================] - 10s 199us/step - loss: 0.3352 - acc: 0.9046 - val_loss: 3.6300 - val_acc: 0.4899\n"
     ]
    },
    {
     "data": {
      "text/plain": [
       "<keras.callbacks.History at 0x1d0a651cdd8>"
      ]
     },
     "execution_count": 9,
     "metadata": {},
     "output_type": "execute_result"
    }
   ],
   "source": [
    "model.fit(x_train, y_train, \n",
    "          epochs=EPOCHS, \n",
    "          batch_size=BATCH_SIZE, \n",
    "          validation_data=(x_test, y_test), \n",
    "          shuffle=True)"
   ]
  },
  {
   "cell_type": "code",
   "execution_count": 11,
   "metadata": {},
   "outputs": [
    {
     "data": {
      "image/png": "[encoded data removed]",
      "text/plain": [
       "<Figure size 432x288 with 1 Axes>"
      ]
     },
     "metadata": {
      "needs_background": "light"
     },
     "output_type": "display_data"
    },
    {
     "data": {
      "image/png": "[encoded data removed]",
      "text/plain": [
       "<Figure size 432x288 with 1 Axes>"
      ]
     },
     "metadata": {
      "needs_background": "light"
     },
     "output_type": "display_data"
    }
   ],
   "source": [
    "import matplotlib.pyplot as plt\n",
    "\n",
    "\n",
    "train_loss = model.history.history[\"loss\"]\n",
    "valid_loss = model.history.history[\"val_loss\"]\n",
    "\n",
    "train_acc = model.history.history[\"acc\"]\n",
    "valid_acc = model.history.history[\"val_acc\"]\n",
    "\n",
    "plt.plot(range(len(train_loss)), train_loss, label=\"train loss\")\n",
    "plt.plot(range(len(valid_loss)), valid_loss, label=\"valid loss\")\n",
    "plt.legend()\n",
    "plt.title(\"Loss\")\n",
    "plt.show()\n",
    "\n",
    "plt.plot(range(len(train_acc)), train_acc, label=\"train accuracy\")\n",
    "plt.plot(range(len(valid_acc)), valid_acc, label=\"valid accuracy\")\n",
    "plt.legend()\n",
    "plt.title(\"Accuracy\")\n",
    "plt.show()"
   ]
  },
  {
   "cell_type": "code",
   "execution_count": null,
   "metadata": {},
   "outputs": [],
   "source": []
  }
 ],
 "metadata": {
  "kernelspec": {
   "display_name": "Python 3",
   "language": "python",
   "name": "python3"
  },
  "language_info": {
   "codemirror_mode": {
    "name": "ipython",
    "version": 3
   },
   "file_extension": ".py",
   "mimetype": "text/x-python",
   "name": "python",
   "nbconvert_exporter": "python",
   "pygments_lexer": "ipython3",
   "version": "3.7.1"
  }
 },
 "nbformat": 4,
 "nbformat_minor": 2
}
