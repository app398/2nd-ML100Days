{
 "cells": [
  {
   "cell_type": "markdown",
   "metadata": {},
   "source": [
    "## Work\n",
    "1. 試比較 save_best_only 與否的差異\n",
    "2. 請僅存入將 save_weights_only 設定為 True, 並嘗試 reset ipynb 並將模型與權重重新建回並預測 x_test"
   ]
  },
  {
   "cell_type": "code",
   "execution_count": 1,
   "metadata": {},
   "outputs": [
    {
     "name": "stderr",
     "output_type": "stream",
     "text": [
      "Using TensorFlow backend.\n"
     ]
    }
   ],
   "source": [
    "import os\n",
    "import keras\n",
    "\n",
    "# Disable GPU\n",
    "os.environ[\"CUDA_VISIBLE_DEVICES\"] = \"\""
   ]
  },
  {
   "cell_type": "code",
   "execution_count": 2,
   "metadata": {},
   "outputs": [],
   "source": [
    "train, test = keras.datasets.cifar10.load_data()"
   ]
  },
  {
   "cell_type": "code",
   "execution_count": 3,
   "metadata": {},
   "outputs": [],
   "source": [
    "## 資料前處理\n",
    "def preproc_x(x, flatten=True):\n",
    "    x = x / 255.\n",
    "    if flatten:\n",
    "        x = x.reshape((len(x), -1))\n",
    "    return x\n",
    "\n",
    "def preproc_y(y, num_classes=10):\n",
    "    if y.shape[-1] == 1:\n",
    "        y = keras.utils.to_categorical(y, num_classes)\n",
    "    return y    "
   ]
  },
  {
   "cell_type": "code",
   "execution_count": 4,
   "metadata": {},
   "outputs": [],
   "source": [
    "x_train, y_train = train\n",
    "x_test, y_test = test\n",
    "\n",
    "# Preproc the inputs\n",
    "x_train = preproc_x(x_train)\n",
    "x_test = preproc_x(x_test)\n",
    "\n",
    "# Preprc the outputs\n",
    "y_train = preproc_y(y_train)\n",
    "y_test = preproc_y(y_test)"
   ]
  },
  {
   "cell_type": "code",
   "execution_count": 5,
   "metadata": {},
   "outputs": [],
   "source": [
    "from keras.layers import BatchNormalization\n",
    "\n",
    "\"\"\"\n",
    "建立神經網路，並加入 BN layer\n",
    "\"\"\"\n",
    "def build_mlp(input_shape, output_units=10, num_neurons=[512, 256, 128]):\n",
    "    input_layer = keras.layers.Input(input_shape)\n",
    "    \n",
    "    for i, n_units in enumerate(num_neurons):\n",
    "        if i == 0:\n",
    "            x = keras.layers.Dense(units=n_units, \n",
    "                                   activation=\"relu\", \n",
    "                                   name=\"hidden_layer\"+str(i+1))(input_layer)\n",
    "            x = BatchNormalization()(x)\n",
    "        else:\n",
    "            x = keras.layers.Dense(units=n_units, \n",
    "                                   activation=\"relu\", \n",
    "                                   name=\"hidden_layer\"+str(i+1))(x)\n",
    "            x = BatchNormalization()(x)\n",
    "    \n",
    "    out = keras.layers.Dense(units=output_units, activation=\"softmax\", name=\"output\")(x)\n",
    "    \n",
    "    model = keras.models.Model(inputs=[input_layer], outputs=[out])\n",
    "    return model"
   ]
  },
  {
   "cell_type": "code",
   "execution_count": 6,
   "metadata": {},
   "outputs": [],
   "source": [
    "## 超參數設定\n",
    "LEARNING_RATE = 1e-3\n",
    "EPOCHS = 50\n",
    "BATCH_SIZE = 1024\n",
    "MOMENTUM = 0.95"
   ]
  },
  {
   "cell_type": "code",
   "execution_count": 7,
   "metadata": {},
   "outputs": [
    {
     "name": "stdout",
     "output_type": "stream",
     "text": [
      "WARNING:tensorflow:From C:\\Users\\Xu Qiao Qi\\Anaconda3\\lib\\site-packages\\tensorflow\\python\\framework\\op_def_library.py:263: colocate_with (from tensorflow.python.framework.ops) is deprecated and will be removed in a future version.\n",
      "Instructions for updating:\n",
      "Colocations handled automatically by placer.\n",
      "_________________________________________________________________\n",
      "Layer (type)                 Output Shape              Param #   \n",
      "=================================================================\n",
      "input_1 (InputLayer)         (None, 3072)              0         \n",
      "_________________________________________________________________\n",
      "hidden_layer1 (Dense)        (None, 512)               1573376   \n",
      "_________________________________________________________________\n",
      "batch_normalization_1 (Batch (None, 512)               2048      \n",
      "_________________________________________________________________\n",
      "hidden_layer2 (Dense)        (None, 256)               131328    \n",
      "_________________________________________________________________\n",
      "batch_normalization_2 (Batch (None, 256)               1024      \n",
      "_________________________________________________________________\n",
      "hidden_layer3 (Dense)        (None, 128)               32896     \n",
      "_________________________________________________________________\n",
      "batch_normalization_3 (Batch (None, 128)               512       \n",
      "_________________________________________________________________\n",
      "output (Dense)               (None, 10)                1290      \n",
      "=================================================================\n",
      "Total params: 1,742,474\n",
      "Trainable params: 1,740,682\n",
      "Non-trainable params: 1,792\n",
      "_________________________________________________________________\n",
      "WARNING:tensorflow:From C:\\Users\\Xu Qiao Qi\\Anaconda3\\lib\\site-packages\\tensorflow\\python\\ops\\math_ops.py:3066: to_int32 (from tensorflow.python.ops.math_ops) is deprecated and will be removed in a future version.\n",
      "Instructions for updating:\n",
      "Use tf.cast instead.\n",
      "Train on 50000 samples, validate on 10000 samples\n",
      "Epoch 1/50\n",
      "50000/50000 [==============================] - 9s 183us/step - loss: 2.2205 - acc: 0.2674 - val_loss: 2.1450 - val_acc: 0.3302\n",
      "Epoch 2/50\n",
      "50000/50000 [==============================] - 7s 138us/step - loss: 1.7353 - acc: 0.3924 - val_loss: 1.8470 - val_acc: 0.3782\n",
      "Epoch 3/50\n",
      "50000/50000 [==============================] - 7s 140us/step - loss: 1.6092 - acc: 0.4350 - val_loss: 1.6809 - val_acc: 0.4179\n",
      "Epoch 4/50\n",
      "50000/50000 [==============================] - 7s 148us/step - loss: 1.5405 - acc: 0.4588 - val_loss: 1.6203 - val_acc: 0.4319\n",
      "Epoch 5/50\n",
      "50000/50000 [==============================] - 8s 153us/step - loss: 1.4859 - acc: 0.4796 - val_loss: 1.5788 - val_acc: 0.4504\n",
      "Epoch 6/50\n",
      "50000/50000 [==============================] - 8s 164us/step - loss: 1.4389 - acc: 0.4962 - val_loss: 1.5632 - val_acc: 0.4496\n",
      "Epoch 7/50\n",
      "50000/50000 [==============================] - 10s 199us/step - loss: 1.4005 - acc: 0.5090 - val_loss: 1.5353 - val_acc: 0.4648\n",
      "Epoch 8/50\n",
      "50000/50000 [==============================] - 9s 171us/step - loss: 1.3648 - acc: 0.5223 - val_loss: 1.5182 - val_acc: 0.4665\n",
      "Epoch 9/50\n",
      "50000/50000 [==============================] - 10s 192us/step - loss: 1.3339 - acc: 0.5355 - val_loss: 1.5166 - val_acc: 0.4687\n",
      "Epoch 10/50\n",
      "50000/50000 [==============================] - 8s 165us/step - loss: 1.3011 - acc: 0.5474 - val_loss: 1.5105 - val_acc: 0.4735\n",
      "Epoch 11/50\n",
      "50000/50000 [==============================] - 9s 176us/step - loss: 1.2740 - acc: 0.5564 - val_loss: 1.5010 - val_acc: 0.4757\n",
      "Epoch 12/50\n",
      "50000/50000 [==============================] - 9s 172us/step - loss: 1.2475 - acc: 0.5670 - val_loss: 1.4899 - val_acc: 0.4840\n",
      "Epoch 13/50\n",
      "50000/50000 [==============================] - 9s 175us/step - loss: 1.2218 - acc: 0.5777 - val_loss: 1.4713 - val_acc: 0.4845\n",
      "Epoch 14/50\n",
      "50000/50000 [==============================] - 9s 188us/step - loss: 1.1986 - acc: 0.5861 - val_loss: 1.4704 - val_acc: 0.4864\n",
      "Epoch 15/50\n",
      "50000/50000 [==============================] - 9s 175us/step - loss: 1.1727 - acc: 0.5953 - val_loss: 1.4697 - val_acc: 0.4845\n",
      "Epoch 16/50\n",
      "50000/50000 [==============================] - 10s 191us/step - loss: 1.1507 - acc: 0.6029 - val_loss: 1.4610 - val_acc: 0.4896\n",
      "Epoch 17/50\n",
      "50000/50000 [==============================] - 8s 158us/step - loss: 1.1255 - acc: 0.6150 - val_loss: 1.4575 - val_acc: 0.4910\n",
      "Epoch 18/50\n",
      "50000/50000 [==============================] - 10s 193us/step - loss: 1.1039 - acc: 0.6222 - val_loss: 1.4593 - val_acc: 0.4908\n",
      "Epoch 19/50\n",
      "50000/50000 [==============================] - 9s 171us/step - loss: 1.0836 - acc: 0.6300 - val_loss: 1.4508 - val_acc: 0.4991\n",
      "Epoch 20/50\n",
      "50000/50000 [==============================] - 9s 180us/step - loss: 1.0621 - acc: 0.6368 - val_loss: 1.4569 - val_acc: 0.4917\n",
      "Epoch 21/50\n",
      "50000/50000 [==============================] - 8s 167us/step - loss: 1.0398 - acc: 0.6455 - val_loss: 1.4492 - val_acc: 0.4978\n",
      "Epoch 22/50\n",
      "50000/50000 [==============================] - 8s 162us/step - loss: 1.0190 - acc: 0.6552 - val_loss: 1.4581 - val_acc: 0.4934\n",
      "Epoch 23/50\n",
      "50000/50000 [==============================] - 9s 186us/step - loss: 0.9985 - acc: 0.6618 - val_loss: 1.4626 - val_acc: 0.4914\n",
      "Epoch 24/50\n",
      "50000/50000 [==============================] - 9s 182us/step - loss: 0.9786 - acc: 0.6703 - val_loss: 1.4514 - val_acc: 0.4967\n",
      "Epoch 25/50\n",
      "50000/50000 [==============================] - 9s 183us/step - loss: 0.9583 - acc: 0.6771 - val_loss: 1.4519 - val_acc: 0.4935\n",
      "Epoch 26/50\n",
      "50000/50000 [==============================] - 8s 164us/step - loss: 0.9386 - acc: 0.6856 - val_loss: 1.4713 - val_acc: 0.4928\n",
      "Epoch 27/50\n",
      "50000/50000 [==============================] - 9s 178us/step - loss: 0.9213 - acc: 0.6918 - val_loss: 1.4683 - val_acc: 0.4976\n",
      "Epoch 28/50\n",
      "50000/50000 [==============================] - 9s 175us/step - loss: 0.8996 - acc: 0.7005 - val_loss: 1.4694 - val_acc: 0.4998\n",
      "Epoch 29/50\n",
      "50000/50000 [==============================] - 10s 191us/step - loss: 0.8784 - acc: 0.7094 - val_loss: 1.4825 - val_acc: 0.4962\n",
      "Epoch 30/50\n",
      "50000/50000 [==============================] - 9s 187us/step - loss: 0.8598 - acc: 0.7164 - val_loss: 1.4783 - val_acc: 0.4955\n",
      "Epoch 31/50\n",
      "50000/50000 [==============================] - 9s 174us/step - loss: 0.8406 - acc: 0.7241 - val_loss: 1.4775 - val_acc: 0.4989\n",
      "Epoch 32/50\n",
      "50000/50000 [==============================] - 10s 195us/step - loss: 0.8192 - acc: 0.7317 - val_loss: 1.4936 - val_acc: 0.4971\n",
      "Epoch 33/50\n",
      "50000/50000 [==============================] - 8s 159us/step - loss: 0.8007 - acc: 0.7410 - val_loss: 1.5142 - val_acc: 0.4956\n",
      "Epoch 34/50\n",
      "50000/50000 [==============================] - 8s 151us/step - loss: 0.7843 - acc: 0.7462 - val_loss: 1.5025 - val_acc: 0.5031\n",
      "Epoch 35/50\n",
      "50000/50000 [==============================] - 8s 151us/step - loss: 0.7638 - acc: 0.7541 - val_loss: 1.5046 - val_acc: 0.4993\n",
      "Epoch 36/50\n",
      "50000/50000 [==============================] - 8s 152us/step - loss: 0.7427 - acc: 0.7623 - val_loss: 1.5423 - val_acc: 0.4884\n",
      "Epoch 37/50\n",
      "50000/50000 [==============================] - 8s 151us/step - loss: 0.7268 - acc: 0.7684 - val_loss: 1.5372 - val_acc: 0.4923\n",
      "Epoch 38/50\n",
      "50000/50000 [==============================] - 8s 165us/step - loss: 0.7074 - acc: 0.7761 - val_loss: 1.5368 - val_acc: 0.4943\n",
      "Epoch 39/50\n",
      "50000/50000 [==============================] - 9s 175us/step - loss: 0.6887 - acc: 0.7840 - val_loss: 1.5551 - val_acc: 0.4939\n",
      "Epoch 40/50\n",
      "50000/50000 [==============================] - 8s 160us/step - loss: 0.6709 - acc: 0.7915 - val_loss: 1.5573 - val_acc: 0.4978\n",
      "Epoch 41/50\n",
      "50000/50000 [==============================] - 8s 152us/step - loss: 0.6532 - acc: 0.7989 - val_loss: 1.5821 - val_acc: 0.4926\n",
      "Epoch 42/50\n",
      "50000/50000 [==============================] - 7s 149us/step - loss: 0.6347 - acc: 0.8069 - val_loss: 1.5758 - val_acc: 0.4980\n",
      "Epoch 43/50\n",
      "50000/50000 [==============================] - 8s 154us/step - loss: 0.6161 - acc: 0.8134 - val_loss: 1.6022 - val_acc: 0.4917\n",
      "Epoch 44/50\n",
      "50000/50000 [==============================] - 8s 157us/step - loss: 0.5993 - acc: 0.8195 - val_loss: 1.5981 - val_acc: 0.4946\n",
      "Epoch 45/50\n"
     ]
    },
    {
     "name": "stdout",
     "output_type": "stream",
     "text": [
      "50000/50000 [==============================] - 9s 173us/step - loss: 0.5814 - acc: 0.8262 - val_loss: 1.6128 - val_acc: 0.4908\n",
      "Epoch 46/50\n",
      "50000/50000 [==============================] - 11s 211us/step - loss: 0.5636 - acc: 0.8349 - val_loss: 1.6069 - val_acc: 0.4943\n",
      "Epoch 47/50\n",
      "50000/50000 [==============================] - 9s 183us/step - loss: 0.5471 - acc: 0.8437 - val_loss: 1.6353 - val_acc: 0.4961\n",
      "Epoch 48/50\n",
      "50000/50000 [==============================] - 9s 190us/step - loss: 0.5296 - acc: 0.8483 - val_loss: 1.6354 - val_acc: 0.4923\n",
      "Epoch 49/50\n",
      "50000/50000 [==============================] - 9s 177us/step - loss: 0.5152 - acc: 0.8529 - val_loss: 1.6776 - val_acc: 0.4887\n",
      "Epoch 50/50\n",
      "50000/50000 [==============================] - 10s 198us/step - loss: 0.4959 - acc: 0.8608 - val_loss: 1.6627 - val_acc: 0.4919\n",
      "10000/10000 [==============================] - 1s 145us/step\n"
     ]
    }
   ],
   "source": [
    "# 載入 Callbacks\n",
    "\"\"\"Code Here\n",
    "設定 callbacks: model checkpoint\n",
    "\"\"\"\n",
    "from keras.callbacks import ModelCheckpoint\n",
    "\n",
    "model_ckpt = ModelCheckpoint(filepath=\"./tmp.h5\", \n",
    "                             monitor=\"val_loss\", \n",
    "                             save_best_only=True)\n",
    "\n",
    "results = {}\n",
    "\"\"\"Code Here\n",
    "撰寫你的訓練流程並將結果用 dictionary 紀錄\n",
    "\"\"\"\n",
    "model = build_mlp(input_shape=x_train.shape[1:])\n",
    "model.summary()\n",
    "optimizer = keras.optimizers.SGD(lr=LEARNING_RATE, nesterov=True, momentum=MOMENTUM)\n",
    "model.compile(loss=\"categorical_crossentropy\", metrics=[\"accuracy\"], optimizer=optimizer)\n",
    "\n",
    "model.fit(x_train, y_train, \n",
    "          epochs=EPOCHS, \n",
    "          batch_size=BATCH_SIZE, \n",
    "          validation_data=(x_test, y_test), \n",
    "          shuffle=True,\n",
    "          callbacks=[model_ckpt]\n",
    "         )\n",
    "\n",
    "# Collect results\n",
    "train_loss = model.history.history[\"loss\"]\n",
    "valid_loss = model.history.history[\"val_loss\"]\n",
    "train_acc = model.history.history[\"acc\"]\n",
    "valid_acc = model.history.history[\"val_acc\"]\n",
    "\n",
    "# Load back\n",
    "model = keras.models.load_model(\"./tmp.h5\")\n",
    "loss_loadback, acc_loadback = model.evaluate(x_test, y_test)"
   ]
  },
  {
   "cell_type": "code",
   "execution_count": 8,
   "metadata": {
    "scrolled": true
   },
   "outputs": [
    {
     "data": {
      "image/png": "[encoded data removed]",
      "text/plain": [
       "<Figure size 432x288 with 1 Axes>"
      ]
     },
     "metadata": {
      "needs_background": "light"
     },
     "output_type": "display_data"
    },
    {
     "data": {
      "image/png": "[encoded data removed]",
      "text/plain": [
       "<Figure size 432x288 with 1 Axes>"
      ]
     },
     "metadata": {
      "needs_background": "light"
     },
     "output_type": "display_data"
    }
   ],
   "source": [
    "import matplotlib.pyplot as plt\n",
    "%matplotlib inline\n",
    "\n",
    "plt.plot(range(len(train_loss)), train_loss, label=\"train loss\")\n",
    "plt.plot(range(len(valid_loss)), valid_loss, label=\"valid loss\")\n",
    "plt.hlines(y=loss_loadback, xmin=0, xmax=len(train_loss), colors='r', linestyles='--')\n",
    "plt.legend()\n",
    "plt.title(\"Loss\")\n",
    "plt.show()\n",
    "\n",
    "plt.plot(range(len(train_acc)), train_acc, label=\"train accuracy\")\n",
    "plt.plot(range(len(valid_acc)), valid_acc, label=\"valid accuracy\")\n",
    "plt.hlines(y=acc_loadback, xmin=0, xmax=len(train_loss), colors='r', linestyles='--')\n",
    "plt.legend()\n",
    "plt.title(\"Accuracy\")\n",
    "plt.show()"
   ]
  },
  {
   "cell_type": "code",
   "execution_count": null,
   "metadata": {},
   "outputs": [],
   "source": []
  }
 ],
 "metadata": {
  "kernelspec": {
   "display_name": "Python 3",
   "language": "python",
   "name": "python3"
  },
  "language_info": {
   "codemirror_mode": {
    "name": "ipython",
    "version": 3
   },
   "file_extension": ".py",
   "mimetype": "text/x-python",
   "name": "python",
   "nbconvert_exporter": "python",
   "pygments_lexer": "ipython3",
   "version": "3.7.1"
  },
  "widgets": {
   "application/vnd.jupyter.widget-state+json": {
    "state": {},
    "version_major": 2,
    "version_minor": 0
   }
  }
 },
 "nbformat": 4,
 "nbformat_minor": 2
}
